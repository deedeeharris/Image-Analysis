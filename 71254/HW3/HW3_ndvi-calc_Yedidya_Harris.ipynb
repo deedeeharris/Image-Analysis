{
 "cells": [
  {
   "cell_type": "code",
   "execution_count": 1,
   "metadata": {},
   "outputs": [
    {
     "name": "stdout",
     "output_type": "stream",
     "text": [
      "The mean of 20200605.tif is: 0.19410030354167368\n",
      "The mean of 20200909.tif is: 0.13049502649496325\n",
      "The mean of 20201027.tif is: 0.1069025706249024\n"
     ]
    },
    {
     "data": {
      "text/plain": [
       "<Figure size 432x288 with 0 Axes>"
      ]
     },
     "metadata": {},
     "output_type": "display_data"
    }
   ],
   "source": [
    "# Homework 2+3 in course 71254 (HUJI) - Yedidya Harris, 10/2021\n",
    "\n",
    "# import the wanted libraries\n",
    "import rasterio # for reading tif images\n",
    "import numpy as np # array calcs\n",
    "import matplotlib.pyplot as plt # plotting the arrays\\images\n",
    "import glob # for getting filenames\n",
    "import os # for getting filenames\n",
    "\n",
    "\n",
    "\n",
    "# getting the raw tif filenames into a list (searching for files that have 'tif' format, though don't start with 'NDVI')\n",
    "file_names = [os.path.basename(x) for x in glob.glob('*.tif') \n",
    "         if not os.path.basename(x).startswith('NDVI')]\n",
    "\n",
    "\n",
    "for image in file_names: # iterating through the tifs\n",
    "    \n",
    "    src = rasterio.open(image)\n",
    "    nir = src.read(5) # reading the nir band\n",
    "    nir = nir *0.0001 # Landsat scale factor\n",
    "    red = src.read(4) # reading the red band\n",
    "    red = red *0.0001 # Landsat scale factor\n",
    "    \n",
    "    kwargs = src.meta # we  get the metadata of the raster spatial information and \n",
    "    # Set spatial characteristics of the output object to mirror the input we need this to get the metadata of the raster spatial information)\n",
    "    kwargs.update(dtype=rasterio.float32,count = 1)\n",
    "\n",
    "    np.seterr(divide='ignore', invalid='ignore') # Allow 0 division in numpy\n",
    "    NDVI = (nir - red) / (nir + red) # ndvi calc\n",
    "\n",
    "\n",
    "    print('The mean of', image, 'is:', np.mean(NDVI)) # printing the NDVI mean \n",
    "    \n",
    "    plt.imshow(NDVI, cmap='seismic'),plt.title(\"NDVI with seismic colormap\" + \"(\"+image+\")\") #show the NDVI with a colormap\n",
    "    plt.clim(-1, 1) # change the colorbar range suiting NDVI\n",
    "    plt.colorbar().set_label('NDVI', labelpad=-40, y=1.05, rotation=0) # giving a title for the colorbar\n",
    "    \n",
    "    plt.savefig('NDVI-figure_' + image, dpi=180) # saving the NDVI figure (with colorbar), with the 'NDVI_' prefix in the filename, and high 'dpi' for high resolution\n",
    "    \n",
    "    \n",
    "    # saving the NDFI image as tif\n",
    "    with rasterio.open('NDVI_' + image, 'w', **kwargs) as dst:\n",
    "        dst.write_band(1, NDVI.astype(rasterio.float32))\n",
    "        \n",
    "    plt.clf() # clearing the figure from the plot (since we're iterating)"
   ]
  },
  {
   "cell_type": "code",
   "execution_count": null,
   "metadata": {},
   "outputs": [],
   "source": []
  }
 ],
 "metadata": {
  "kernelspec": {
   "display_name": "Python 3",
   "language": "python",
   "name": "python3"
  },
  "language_info": {
   "codemirror_mode": {
    "name": "ipython",
    "version": 3
   },
   "file_extension": ".py",
   "mimetype": "text/x-python",
   "name": "python",
   "nbconvert_exporter": "python",
   "pygments_lexer": "ipython3",
   "version": "3.8.5"
  }
 },
 "nbformat": 4,
 "nbformat_minor": 5
}
