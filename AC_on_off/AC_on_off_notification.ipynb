{
  "nbformat": 4,
  "nbformat_minor": 0,
  "metadata": {
    "colab": {
      "name": "AC_on_off_notification.ipynb",
      "provenance": [],
      "collapsed_sections": [
        "ydu1B_u_zsdE",
        "01ornvlv7PfZ",
        "PUv27kyjpUrN",
        "xtm7ztuEtDd5",
        "DgafcB4MGlT2",
        "RjLE2NEc33Fo",
        "cMveOMJhCdU5",
        "CB0IsqG4-d22"
      ]
    },
    "kernelspec": {
      "name": "python3",
      "display_name": "Python 3"
    },
    "language_info": {
      "name": "python"
    }
  },
  "cells": [
    {
      "cell_type": "markdown",
      "source": [
        "# **AC on/off notification**\n",
        "\n",
        "**Introduction:**\n",
        "\n",
        "As part of a study of the effect of green walls on interior spaces, our air conditioners in the laboratory are constantly on at 25 degrees Celsius.\n",
        "But there are times when the air conditioners stop working. The AC status should be documented, since it affects the activity of the plants, and other results, etc.\n",
        "We wrote a code that saves an image from a USB camera that sees the air conditioners and is connected to our server. The code identifies according to the vents of the air conditioner whether it is open or closed, that is, on or off. Accordingly, the status of the air conditioner is recorded with the exact time in a database, an updated graph is created, and a notification email is sent if there has been a change since the last check.\n",
        "\n",
        "The image is processed by counting the number of black pixels, and comparing the ranges corresponding to the status of the air conditioner: on/off. Currently, the model works during the hours when there is lighting in the laboratory (natural or artificial).\n",
        "\n",
        "To continue - inserting the images that are saved throughout the day into a machine learning model, in order to get predictions about an open/closed air conditioner under different lighting conditions.\n",
        "\n",
        "You are welcome to take a look and use code parts if relevant to you!\n",
        "\n",
        "**Pipeline:**\n",
        "\n",
        "1. Capture image from webcam.\n",
        "2. Cut polygon of vents area, and see if open or close.\n",
        "3. Append status+timestamp to csv file.\n",
        "4. CSV to df, and create plotly graph.\n",
        "5. Send email with smtp.\n",
        "\n",
        "\n",
        "**By:** Yedidya Harris, Yehuda Yungstein"
      ],
      "metadata": {
        "id": "oqgbV6BCo9rU"
      }
    },
    {
      "cell_type": "markdown",
      "source": [
        "### Libs"
      ],
      "metadata": {
        "id": "ydu1B_u_zsdE"
      }
    },
    {
      "cell_type": "code",
      "source": [
        "# crop image by specific coords\n",
        "\n",
        "import cv2\n",
        "import numpy as np\n",
        "from skimage import data\n",
        "from skimage.viewer import ImageViewer\n",
        "from skimage import data, io\n",
        "from matplotlib import pyplot as plt\n",
        "from skimage.color.colorconv import ycbcr2rgb\n",
        "import os\n",
        "import re\n",
        "from datetime import datetime\n",
        "from PIL import Image \n",
        "import PIL \n",
        "\n",
        "# global vars\n",
        "folder_path = 'D:/LoggerNet-code'"
      ],
      "metadata": {
        "id": "eS0z_leEpkXs"
      },
      "execution_count": null,
      "outputs": []
    },
    {
      "cell_type": "markdown",
      "source": [
        "## Capture image from USB webcam"
      ],
      "metadata": {
        "id": "01ornvlv7PfZ"
      }
    },
    {
      "cell_type": "code",
      "source": [
        "# Python program to capture a single image\n",
        "# using pygame library\n",
        "\n",
        "# importing the pygame library\n",
        "import pygame\n",
        "import pygame.camera\n",
        "import time\n",
        "\n",
        "def captureImg():\n",
        "  # initializing the camera\n",
        "  pygame.camera.init()\n",
        "\n",
        "  # make the list of all available cameras\n",
        "  camlist = pygame.camera.list_cameras()\n",
        "\n",
        "\n",
        "  # if camera is detected or not\n",
        "  if camlist:\n",
        "\n",
        "    # initializing the cam variable with default camera\n",
        "    cam = pygame.camera.Camera(camlist[0], (640, 480))\n",
        "\n",
        "    # opening the camera\n",
        "    cam.start()\n",
        "    \n",
        "    time.sleep(5) # letting the camera gain some light \n",
        "\n",
        "    # capturing the single image\n",
        "    image = cam.get_image()\n",
        "    current_date_time = datetime.now().strftime(\"%Y-%m-%d_%H_%M_%S\") # current timestamp\n",
        "\n",
        "    # saving the image\n",
        "    image_path = f'{folder_path}/images/{current_date_time}_lab.jpg'\n",
        "    pygame.image.save(image, f'{folder_path}/images/{current_date_time}_lab.jpg')\n",
        "\n",
        "  # if camera is not detected the moving to else part\n",
        "  else:\n",
        "    print(\"No camera on current device\")\n",
        "  return image_path\n"
      ],
      "metadata": {
        "id": "ZsIQO4rQK1rx"
      },
      "execution_count": null,
      "outputs": []
    },
    {
      "cell_type": "markdown",
      "source": [
        "## Image Processing + update csv"
      ],
      "metadata": {
        "id": "PUv27kyjpUrN"
      }
    },
    {
      "cell_type": "markdown",
      "source": [
        "### threshold"
      ],
      "metadata": {
        "id": "xtm7ztuEtDd5"
      }
    },
    {
      "cell_type": "code",
      "source": [
        "# a few tweaks\n",
        "\n",
        "# threshold, indication for ac on/of - YEHUDA\n",
        "\n",
        "#function to crop an image by xy coords (top left corner, bottom right corner)\n",
        "\n",
        "def crop_image(image_path, x1,y1,x2,y2):\n",
        "  img = cv2.imread(image_path)\n",
        "  crop_img = img[y1:y2, x1:x2 ]\n",
        "  return crop_img\n",
        "\n",
        "# function to crop both ac vents, by specific coords\n",
        "def crop_ac_vents(image_path):\n",
        "  ac_left_img = crop_image(image_path, 420,840,635,910)\n",
        "  ac_right_img = crop_image(image_path, 1150,535,1500,670)\n",
        "  return ac_left_img, ac_right_img\n",
        "\n",
        "# threshold, check if vents are open or closed\n",
        "def get_ac_status (image_path):\n",
        "  ac_left_img, ac_right_img = crop_ac_vents(image_path)\n",
        "\n",
        "  # right:\n",
        "  ac_right = ac_right_img # location of right ac\n",
        "  img_thresh = np.where(ac_right < 110 , ac_right, 255) # above 110 all values wiil be 255\n",
        "  img_thresh = np.where(img_thresh >= 110 , img_thresh, 0) # bebeath  110 all values wiil be 255\n",
        "  #imgplot = plt.imshow(img_thresh) #plot\n",
        "  pixels = np.sum(np.array(img_thresh) == 0) # how much pixels get the value 0\n",
        "  if pixels >= 9900: #it means the ac on\n",
        "    status_r = 1\n",
        "    status_r_str = \"ON\"\n",
        "  else:\n",
        "    status_r = 0 #it means the ac off\n",
        "    status_r_str = \"OFF\"\n",
        "  \n",
        "  # left - same procces different threshold\n",
        "  ac_left = ac_left_img\n",
        "  img_thresh = np.where(ac_left < 110 , ac_left, 255)\n",
        "  img_thresh = np.where(img_thresh >= 110 , img_thresh, 0) \n",
        "  #imgplot = plt.imshow(img_thresh)\n",
        "  pixels = np.sum(np.array(img_thresh) == 0)\n",
        "  if pixels >= 1300:\n",
        "    status_l = 1\n",
        "    status_l_str = \"ON\"\n",
        "  else:\n",
        "   status_l = 0\n",
        "   status_l_str = \"OFF\"\n",
        "\n",
        "  # save cropped images with status\n",
        "  current_date_time = datetime.now().strftime(\"%Y-%m-%d_%H_%M_%S\") # current timestamp\n",
        "  left_filename = f'{current_date_time}_left_{status_l}.jpg'\n",
        "  right_filename = f'{current_date_time}_right_{status_r}.jpg'\n",
        "  # cv2.imwrite(f'{folder_path}/images/cropped/{left_filename}', ac_left)\n",
        "  # cv2.imwrite(f'{folder_path}/images/cropped/{right_filename}', ac_right)\n",
        "  # print(os.listdir(f'{folder_path}/images/cropped'))\n",
        "  \n",
        "  return status_l,status_l_str,status_r,status_r_str"
      ],
      "metadata": {
        "id": "SQyZirU1j4q9"
      },
      "execution_count": null,
      "outputs": []
    },
    {
      "cell_type": "markdown",
      "source": [
        "### update csv"
      ],
      "metadata": {
        "id": "Y8poD8MvsUur"
      }
    },
    {
      "cell_type": "code",
      "source": [
        "# add status to csv\n",
        "\n",
        "# Importing required modules\n",
        "from csv import writer\n",
        "from datetime import datetime\n",
        "\n",
        "def append_list_as_row(file_name, list_of_elem):\n",
        "    # Open file in append mode\n",
        "    with open(file_name, 'a+', newline='') as write_obj:\n",
        "        # Create a writer object from csv module\n",
        "        csv_writer = writer(write_obj)\n",
        "        # Add contents of list as last row in the csv file\n",
        "        csv_writer.writerow(list_of_elem)\n",
        "\n",
        "# function to log status of AC to csv\n",
        "def log_status (leftac_status, rightac_status):\n",
        "  current_date_time = datetime.now().strftime(\"%Y-%m-%d %H:%M:%S\") # current timestamp\n",
        "  file_name = f'{folder_path}/ac_status.csv' # our csv\n",
        "  row_contents = [current_date_time, leftac_status, rightac_status] # new row to append\n",
        "  append_list_as_row(file_name, row_contents) # append new row to csv file"
      ],
      "metadata": {
        "id": "A64dgPJv8O27"
      },
      "execution_count": null,
      "outputs": []
    },
    {
      "cell_type": "markdown",
      "source": [
        "## Send notification to email\n",
        "\n"
      ],
      "metadata": {
        "id": "DgafcB4MGlT2"
      }
    },
    {
      "cell_type": "code",
      "source": [
        "import smtplib\n",
        "import ssl\n",
        "\n",
        "# creds and settings\n",
        "sender = 'sender@gmail.com'\n",
        "recipient = ['mail1@example.com','mail2@example.com']\n",
        "sender_password = 'secret'\n",
        "port = 587  \n",
        "smtp_server = \"smtp.gmail.com\"\n",
        "\n",
        "\n",
        "def notifyEmail(left_ac_status_str,right_ac_status_str):\n",
        "  message = f\"\"\"Subject: Lab AC STATUS\n",
        "\n",
        "\n",
        "  Left AC status: {left_ac_status_str}. \n",
        "  Right AC status: {right_ac_status_str}.\n",
        "\n",
        "  Good luck!\n",
        "  \"\"\"\n",
        "\n",
        "  SSL_context = ssl.create_default_context()\n",
        "\n",
        "  with smtplib.SMTP(smtp_server, port) as server:\n",
        "\n",
        "      server.starttls(context=SSL_context)\n",
        "\n",
        "      server.login(sender, sender_password)\n",
        "\n",
        "      server.sendmail(sender, recipient, message)\n"
      ],
      "metadata": {
        "id": "NnYpH_-8GpcH"
      },
      "execution_count": null,
      "outputs": []
    },
    {
      "cell_type": "markdown",
      "source": [
        "## Check if AC status changed from last check"
      ],
      "metadata": {
        "id": "RjLE2NEc33Fo"
      }
    },
    {
      "cell_type": "code",
      "source": [
        "def check_notification(df,colomn_left_name,column_right_name):\n",
        "  # check the last value in both columns and compare to value before it\n",
        "  columns = [colomn_left_name,column_right_name]\n",
        "  for column in columns:\n",
        "    last_value = df[column].iat[-1]\n",
        "    one_before = df[column].iat[-2]\n",
        "    if last_value == one_before:\n",
        "      send_mail = False\n",
        "    else:\n",
        "      send_mail = True\n",
        "    return send_mail"
      ],
      "metadata": {
        "id": "soSh5nGs37wo"
      },
      "execution_count": 1,
      "outputs": []
    },
    {
      "cell_type": "markdown",
      "source": [
        "## Reading data and plotting"
      ],
      "metadata": {
        "id": "cMveOMJhCdU5"
      }
    },
    {
      "cell_type": "code",
      "source": [
        "# function to plot a graph in plotly\n",
        "\n",
        "import plotly.graph_objects as go\n",
        "def plot_df (latest_df, col_x, col_y1, col_y2='none', trace1_name='none', trace2_name='none', x_title='', y_title='', plot_title=''):\n",
        "\n",
        "  # Create figure\n",
        "  fig = go.Figure()\n",
        "\n",
        "  if col_y2 == 'none':   \n",
        "      fig.add_trace(\n",
        "          go.Scatter(x=list(latest_df[col_x]), y=list(latest_df[col_y1]),        \n",
        "          \n",
        "          hovertemplate=\"%{y}%{_xother}\"\n",
        "           ))\n",
        "\n",
        "  if col_y2 != 'none':   \n",
        "      fig.add_trace(\n",
        "          go.Scatter(\n",
        "              x=list(latest_df[col_x]), y=list(latest_df[col_y1]),\n",
        "              name=trace1_name, hovertemplate=\"%{y}%{_xother}\"      \n",
        "          ))\n",
        "      \n",
        "      fig.add_trace(\n",
        "          go.Scatter(\n",
        "              x=list(latest_df[col_x]), y=list(latest_df[col_y2]),\n",
        "              name=trace2_name, hovertemplate=\"%{y}%{_xother}\"     \n",
        "          ))\n",
        "\n",
        "  # Set title\n",
        "  fig.update_layout(\n",
        "      yaxis={\"dtick\":1},\n",
        "      xaxis_title=x_title,\n",
        "      yaxis_title=y_title,\n",
        "\n",
        "      height=600, width=1500,\n",
        "      title={\n",
        "      'text': plot_title,\n",
        "      'y':0.9,\n",
        "      'x':0.5,\n",
        "      'xanchor': 'center',\n",
        "      'yanchor': 'top'}\n",
        "  )      \n",
        "  \n",
        "\n",
        "  # Add range slider\n",
        "  fig.update_layout(\n",
        "      xaxis=dict(\n",
        "          rangeselector=dict(\n",
        "              buttons=list([\n",
        "                  dict(count=1,\n",
        "                      label=\"1minute  \",\n",
        "                      step=\"minute\",\n",
        "                      stepmode=\"backward\"),            \n",
        "                  dict(count=1,\n",
        "                      label=\"1hour\",\n",
        "                      step=\"hour\",\n",
        "                      stepmode=\"backward\"),       \n",
        "                  dict(count=1,\n",
        "                      label=\"1day\",\n",
        "                      step=\"day\",\n",
        "                      stepmode=\"backward\"),                 \n",
        "                  dict(count=1,\n",
        "                      label=\"1month\",\n",
        "                      step=\"month\",\n",
        "                      stepmode=\"backward\"),\n",
        "                  dict(count=6,\n",
        "                      label=\"6months\",\n",
        "                      step=\"month\",\n",
        "                      stepmode=\"backward\"),\n",
        "                  dict(step=\"all\")\n",
        "              ])\n",
        "          ),\n",
        "          rangeslider=dict(\n",
        "              visible=True\n",
        "          ),\n",
        "          type=\"date\"\n",
        "      )\n",
        "  )\n",
        "\n",
        "  fig.update_layout(hovermode=\"x unified\")\n",
        "\n",
        "  return fig    "
      ],
      "metadata": {
        "id": "wpVkCBML434Q"
      },
      "execution_count": null,
      "outputs": []
    },
    {
      "cell_type": "code",
      "source": [
        "import pandas as pd\n",
        "def graph_to_html():\n",
        "  file_name = f'{folder_path}/ac_status.csv' # our csv\n",
        "  df = pd.read_csv(file_name)\n",
        "  df['TIMESTAMP'] = pd.to_datetime(df['TIMESTAMP'], format='%Y-%m-%d %H:%M:%S') \n",
        "  #df=df.set_index('TIMESTAMP')\n",
        "  ac_fig = plot_df (df, 'TIMESTAMP', 'LEFT_STATUS', col_y2='RIGHT_STATUS', trace1_name='Left AC', trace2_name='Right AC', x_title='TIMESTAMP', y_title='On=1 | Off=0', plot_title='AC Status')\n",
        "\n",
        "  # save plotly graph to html   \n",
        "  html_path = f'{folder_path}/ac_status.html'\n",
        "  with open(html_path, 'w') as f: # w for overwrite\n",
        "    f.write(ac_fig.to_html(full_html=False, include_plotlyjs='cdn'))\n",
        "  return df"
      ],
      "metadata": {
        "id": "TyGmf4pC0IPC"
      },
      "execution_count": null,
      "outputs": []
    },
    {
      "cell_type": "markdown",
      "source": [
        "## Running our app in a loop"
      ],
      "metadata": {
        "id": "CB0IsqG4-d22"
      }
    },
    {
      "cell_type": "code",
      "source": [
        "# set a loop, run every 10 minutes\n",
        "import glob\n",
        "\n",
        "def runAll():\n",
        "  #images_path = glob.glob(f'{folder_path}/images/*.jpg') # get a list of all the paths of the images within the folder\n",
        "  \n",
        "  image_path = captureImg() # captures an img, saves, and returns the path\n",
        "  leftac_status, left_ac_status_str, rightac_status, right_ac_status_str = get_ac_status(image_path) # get ac status\n",
        "  log_status (leftac_status, rightac_status) # log ac status to csv  \n",
        "  df = graph_to_html() # plot the csv and save to html, and return df\n",
        "  \n",
        "  #check if AC status changed\n",
        "  if check_notification(df,'LEFT_STATUS','RIGHT_STATUS'): \n",
        "    notifyEmail(left_ac_status_str,right_ac_status_str) # if left/right ac off, then send email"
      ],
      "metadata": {
        "id": "YCPbhnAM-2G6"
      },
      "execution_count": null,
      "outputs": []
    },
    {
      "cell_type": "code",
      "source": [
        "# run function every 5 minutes\n",
        "import time\n",
        "\n",
        "def logAc():\n",
        "  if __name__ == '__main__':\n",
        "      while True:\n",
        "          runAll()\n",
        "          print('AC status logged.')\n",
        "          time.sleep(5*60) # run evey 5 minutes"
      ],
      "metadata": {
        "id": "2J2pmAJFNUot"
      },
      "execution_count": null,
      "outputs": []
    },
    {
      "cell_type": "code",
      "source": [
        "logAc()"
      ],
      "metadata": {
        "id": "NhVjmn_ikeCy"
      },
      "execution_count": null,
      "outputs": []
    }
  ]
}