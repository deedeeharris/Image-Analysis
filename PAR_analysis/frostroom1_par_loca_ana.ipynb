{
  "nbformat": 4,
  "nbformat_minor": 0,
  "metadata": {
    "colab": {
      "provenance": [],
      "collapsed_sections": [
        "_OEY06R_ekCF",
        "DieE-2KEe9EV"
      ],
      "mount_file_id": "1OOwk66GZeFCInPCkEhfIUiO5DKq5RTNS",
      "authorship_tag": "ABX9TyPW67gcl+V6yxZrgOVzBRRD",
      "include_colab_link": true
    },
    "kernelspec": {
      "name": "python3",
      "display_name": "Python 3"
    },
    "language_info": {
      "name": "python"
    }
  },
  "cells": [
    {
      "cell_type": "markdown",
      "metadata": {
        "id": "view-in-github",
        "colab_type": "text"
      },
      "source": [
        "<a href=\"https://colab.research.google.com/github/deedeeharris/Image-Analysis/blob/main/PAR_analysis/frostroom1_par_loca_ana.ipynb\" target=\"_parent\"><img src=\"https://colab.research.google.com/assets/colab-badge.svg\" alt=\"Open In Colab\"/></a>"
      ]
    },
    {
      "cell_type": "markdown",
      "source": [
        "# PAR analysis per plant - Frostroom 1 (12/2022-03/2023)\n",
        "\n",
        "\n",
        "Workflow:\n",
        "1.   Every two weeks, measure PAR 3 times a day at each location of every plant. Fill in excel table array.\n",
        "2.   Every two weeks, list the exact location of each plant in the grow room. Fill in excel table array. Afterwards, at end of day, swap locations, according to results.\n",
        "3.   Load both array as numpy 2-D, flatten, add both to a df, first col is the ID's, second col is the PAR. Sort by ID, 1 to 88 (plant ID).\n",
        "4.   Add the 3 PAR measurements to the DF, interpolate, and get the daily cumulative PAR per plant. \n",
        "5.   Change plant location according to the experiment cumulative PAR, so that all plants get a total of the same PAR.\n",
        "\n"
      ],
      "metadata": {
        "id": "C8FF40V2dosL"
      }
    },
    {
      "cell_type": "markdown",
      "source": [
        "## libs and functions"
      ],
      "metadata": {
        "id": "_OEY06R_ekCF"
      }
    },
    {
      "cell_type": "code",
      "execution_count": 1,
      "metadata": {
        "id": "YoANSrNddTtX"
      },
      "outputs": [],
      "source": [
        "# libs\n",
        "import pandas as pd\n",
        "import cv2\n",
        "import numpy as np\n",
        "import seaborn as sns\n",
        "import skimage"
      ]
    },
    {
      "cell_type": "code",
      "source": [
        "# mount google drive\n",
        "\n",
        "# declare folder path\n",
        "folder_path = r'/content/drive/MyDrive/LabFiles/smart_verticrops/experiments/cultivar testing/exp1_frostroom/logs/plant_location_and_PAR'"
      ],
      "metadata": {
        "id": "_Bpf2Dzdeqfb"
      },
      "execution_count": 2,
      "outputs": []
    },
    {
      "cell_type": "code",
      "source": [
        "# function to read in csv array (numbers) into a numpy arrays, and create df\n",
        "def csv_to_arr(filename_locs, filename_par):\n",
        "\n",
        "  # csv to numpy array\n",
        "  locations_arr = pd.read_csv(f'{folder_path}/{filename_locs}', header=None).values\n",
        "  par_arr = pd.read_csv(f'{folder_path}/{filename_par}', header=None).values\n",
        "\n",
        "  # flatten both csv, and add to df\n",
        "  df_plant_par = pd.DataFrame()\n",
        "  df_plant_par['ID'] = locations_arr.flatten()\n",
        "  df_plant_par['PAR'] = par_arr.flatten()\n",
        "\n",
        "  # make the ID col as index, and sort by ID\n",
        "  df_plant_par = df_plant_par.set_index('ID') \n",
        "  df_plant_par = df_plant_par.sort_index(axis=0, ascending=True, inplace=False)\n",
        "\n",
        "  # drop all rows that the ID is zero (means that there is no plant there)\n",
        "  df_no_zero = df_plant_par[ df_plant_par.index > 0 ] # Step 1\n",
        "  return locations_arr, par_arr, df_no_zero"
      ],
      "metadata": {
        "id": "E7B9cm9pg-9T"
      },
      "execution_count": 53,
      "outputs": []
    },
    {
      "cell_type": "markdown",
      "source": [
        "# First measurement - 04/12/2022"
      ],
      "metadata": {
        "id": "DieE-2KEe9EV"
      }
    },
    {
      "cell_type": "code",
      "source": [
        "# read in plant location csv\n",
        "filename_locs = 'locs041222.csv'\n",
        "filename_par = 'par041222.csv'\n",
        "locs_arr, par_arr, df_041222 = csv_to_arr(filename_locs, filename_par)"
      ],
      "metadata": {
        "id": "lczhYWVefAkI"
      },
      "execution_count": 54,
      "outputs": []
    },
    {
      "cell_type": "code",
      "source": [
        "df_041222"
      ],
      "metadata": {
        "colab": {
          "base_uri": "https://localhost:8080/",
          "height": 455
        },
        "id": "V5F0MCbOflJp",
        "outputId": "06ad2b4c-01e8-40d0-fb5b-26b5572fdb4f"
      },
      "execution_count": 55,
      "outputs": [
        {
          "output_type": "execute_result",
          "data": {
            "text/plain": [
              "    PAR\n",
              "ID     \n",
              "1   500\n",
              "2   121\n",
              "3   125\n",
              "4   500\n",
              "5   540\n",
              "..  ...\n",
              "84  240\n",
              "85  131\n",
              "86  123\n",
              "87  150\n",
              "88  135\n",
              "\n",
              "[88 rows x 1 columns]"
            ],
            "text/html": [
              "\n",
              "  <div id=\"df-bcedd5dd-d3d8-40d1-a966-e13c455fcbad\">\n",
              "    <div class=\"colab-df-container\">\n",
              "      <div>\n",
              "<style scoped>\n",
              "    .dataframe tbody tr th:only-of-type {\n",
              "        vertical-align: middle;\n",
              "    }\n",
              "\n",
              "    .dataframe tbody tr th {\n",
              "        vertical-align: top;\n",
              "    }\n",
              "\n",
              "    .dataframe thead th {\n",
              "        text-align: right;\n",
              "    }\n",
              "</style>\n",
              "<table border=\"1\" class=\"dataframe\">\n",
              "  <thead>\n",
              "    <tr style=\"text-align: right;\">\n",
              "      <th></th>\n",
              "      <th>PAR</th>\n",
              "    </tr>\n",
              "    <tr>\n",
              "      <th>ID</th>\n",
              "      <th></th>\n",
              "    </tr>\n",
              "  </thead>\n",
              "  <tbody>\n",
              "    <tr>\n",
              "      <th>1</th>\n",
              "      <td>500</td>\n",
              "    </tr>\n",
              "    <tr>\n",
              "      <th>2</th>\n",
              "      <td>121</td>\n",
              "    </tr>\n",
              "    <tr>\n",
              "      <th>3</th>\n",
              "      <td>125</td>\n",
              "    </tr>\n",
              "    <tr>\n",
              "      <th>4</th>\n",
              "      <td>500</td>\n",
              "    </tr>\n",
              "    <tr>\n",
              "      <th>5</th>\n",
              "      <td>540</td>\n",
              "    </tr>\n",
              "    <tr>\n",
              "      <th>...</th>\n",
              "      <td>...</td>\n",
              "    </tr>\n",
              "    <tr>\n",
              "      <th>84</th>\n",
              "      <td>240</td>\n",
              "    </tr>\n",
              "    <tr>\n",
              "      <th>85</th>\n",
              "      <td>131</td>\n",
              "    </tr>\n",
              "    <tr>\n",
              "      <th>86</th>\n",
              "      <td>123</td>\n",
              "    </tr>\n",
              "    <tr>\n",
              "      <th>87</th>\n",
              "      <td>150</td>\n",
              "    </tr>\n",
              "    <tr>\n",
              "      <th>88</th>\n",
              "      <td>135</td>\n",
              "    </tr>\n",
              "  </tbody>\n",
              "</table>\n",
              "<p>88 rows × 1 columns</p>\n",
              "</div>\n",
              "      <button class=\"colab-df-convert\" onclick=\"convertToInteractive('df-bcedd5dd-d3d8-40d1-a966-e13c455fcbad')\"\n",
              "              title=\"Convert this dataframe to an interactive table.\"\n",
              "              style=\"display:none;\">\n",
              "        \n",
              "  <svg xmlns=\"http://www.w3.org/2000/svg\" height=\"24px\"viewBox=\"0 0 24 24\"\n",
              "       width=\"24px\">\n",
              "    <path d=\"M0 0h24v24H0V0z\" fill=\"none\"/>\n",
              "    <path d=\"M18.56 5.44l.94 2.06.94-2.06 2.06-.94-2.06-.94-.94-2.06-.94 2.06-2.06.94zm-11 1L8.5 8.5l.94-2.06 2.06-.94-2.06-.94L8.5 2.5l-.94 2.06-2.06.94zm10 10l.94 2.06.94-2.06 2.06-.94-2.06-.94-.94-2.06-.94 2.06-2.06.94z\"/><path d=\"M17.41 7.96l-1.37-1.37c-.4-.4-.92-.59-1.43-.59-.52 0-1.04.2-1.43.59L10.3 9.45l-7.72 7.72c-.78.78-.78 2.05 0 2.83L4 21.41c.39.39.9.59 1.41.59.51 0 1.02-.2 1.41-.59l7.78-7.78 2.81-2.81c.8-.78.8-2.07 0-2.86zM5.41 20L4 18.59l7.72-7.72 1.47 1.35L5.41 20z\"/>\n",
              "  </svg>\n",
              "      </button>\n",
              "      \n",
              "  <style>\n",
              "    .colab-df-container {\n",
              "      display:flex;\n",
              "      flex-wrap:wrap;\n",
              "      gap: 12px;\n",
              "    }\n",
              "\n",
              "    .colab-df-convert {\n",
              "      background-color: #E8F0FE;\n",
              "      border: none;\n",
              "      border-radius: 50%;\n",
              "      cursor: pointer;\n",
              "      display: none;\n",
              "      fill: #1967D2;\n",
              "      height: 32px;\n",
              "      padding: 0 0 0 0;\n",
              "      width: 32px;\n",
              "    }\n",
              "\n",
              "    .colab-df-convert:hover {\n",
              "      background-color: #E2EBFA;\n",
              "      box-shadow: 0px 1px 2px rgba(60, 64, 67, 0.3), 0px 1px 3px 1px rgba(60, 64, 67, 0.15);\n",
              "      fill: #174EA6;\n",
              "    }\n",
              "\n",
              "    [theme=dark] .colab-df-convert {\n",
              "      background-color: #3B4455;\n",
              "      fill: #D2E3FC;\n",
              "    }\n",
              "\n",
              "    [theme=dark] .colab-df-convert:hover {\n",
              "      background-color: #434B5C;\n",
              "      box-shadow: 0px 1px 3px 1px rgba(0, 0, 0, 0.15);\n",
              "      filter: drop-shadow(0px 1px 2px rgba(0, 0, 0, 0.3));\n",
              "      fill: #FFFFFF;\n",
              "    }\n",
              "  </style>\n",
              "\n",
              "      <script>\n",
              "        const buttonEl =\n",
              "          document.querySelector('#df-bcedd5dd-d3d8-40d1-a966-e13c455fcbad button.colab-df-convert');\n",
              "        buttonEl.style.display =\n",
              "          google.colab.kernel.accessAllowed ? 'block' : 'none';\n",
              "\n",
              "        async function convertToInteractive(key) {\n",
              "          const element = document.querySelector('#df-bcedd5dd-d3d8-40d1-a966-e13c455fcbad');\n",
              "          const dataTable =\n",
              "            await google.colab.kernel.invokeFunction('convertToInteractive',\n",
              "                                                     [key], {});\n",
              "          if (!dataTable) return;\n",
              "\n",
              "          const docLinkHtml = 'Like what you see? Visit the ' +\n",
              "            '<a target=\"_blank\" href=https://colab.research.google.com/notebooks/data_table.ipynb>data table notebook</a>'\n",
              "            + ' to learn more about interactive tables.';\n",
              "          element.innerHTML = '';\n",
              "          dataTable['output_type'] = 'display_data';\n",
              "          await google.colab.output.renderOutput(dataTable, element);\n",
              "          const docLink = document.createElement('div');\n",
              "          docLink.innerHTML = docLinkHtml;\n",
              "          element.appendChild(docLink);\n",
              "        }\n",
              "      </script>\n",
              "    </div>\n",
              "  </div>\n",
              "  "
            ]
          },
          "metadata": {},
          "execution_count": 55
        }
      ]
    }
  ]
}